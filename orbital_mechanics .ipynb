{
 "cells": [
  {
   "cell_type": "markdown",
   "metadata": {},
   "source": [
    "# Create a simple solar system model"
   ]
  },
  {
   "cell_type": "code",
   "execution_count": null,
   "metadata": {},
   "outputs": [],
   "source": [
    "%matplotlib inline\n",
    "import numpy as np\n",
    "import matplotlib.pyploy as plt\n",
    "from collections import namedtuple"
   ]
  },
  {
   "cell_type": "markdown",
   "metadata": {},
   "source": [
    "## Define a planet class"
   ]
  },
  {
   "cell_type": "code",
   "execution_count": 2,
   "metadata": {},
   "outputs": [],
   "source": [
    "class planet():\n",
    "    \"A planet in our solar system\"\n",
    "    def __init__(self,semimajor,eccentricity):\n",
    "        self.x     = np.zeros(2)      # x and y position\n",
    "        self.v     = np.zeros(2)      # x and y velocity \n",
    "        self.a_g   = np.zeros(2)      # x and y acceleration\n",
    "        self.t     = 0.0              # Current time\n",
    "        self.dt    = 0.0              # Current timestep\n",
    "        self.a     = semimajor        # Semimajor axis of the orbit \n",
    "        self.e     = eccentricity     # Eccentricity of the orbit \n",
    "        self.istep = 0                # Current integer timstep\n",
    "        self.name  = \"\"               # Name for the planet"
   ]
  },
  {
   "cell_type": "markdown",
   "metadata": {},
   "source": [
    "## Define a dictionary with some constants"
   ]
  },
  {
   "cell_type": "code",
   "execution_count": 3,
   "metadata": {},
   "outputs": [],
   "source": [
    "solar_system = { \"M_sun\":1.0, \"G\":39.4784176043574320}"
   ]
  },
  {
   "cell_type": "markdown",
   "metadata": {},
   "source": [
    "## Define some functions for setting circular velocity, and acceleration"
   ]
  },
  {
   "cell_type": "code",
   "execution_count": 4,
   "metadata": {},
   "outputs": [],
   "source": [
    "def SolarCircularVelocity(p):\n",
    "    \n",
    "    G = solar_system[\"G\"]\n",
    "    M = solar_system[\"M_sun\"]\n",
    "    r = ( p.x[0]** + p.x[1]**2 )**0.5\n",
    "    \n",
    "    # Return the circular velocity \n",
    "    return (G*M/r)**0.5"
   ]
  },
  {
   "cell_type": "markdown",
   "metadata": {},
   "source": [
    "## Write a function to compute the gravitational acceleration on each planet from the Sun"
   ]
  },
  {
   "cell_type": "code",
   "execution_count": 5,
   "metadata": {},
   "outputs": [],
   "source": [
    "def SolarGravitationalAcceleration(p):\n",
    "    \n",
    "    G = solar_system[\"G\"]\n",
    "    M = solar_system[\"M_sun\"]\n",
    "    r = ( p.x[0]** + p.x[1]**2 )**0.5\n",
    "    \n",
    "    # Acceleration in AU/yr/yr\n",
    "    a_grav = -1.0*G*M/r**2\n",
    "    \n",
    "    # Find the angle at this position \n",
    "    if(p.x[0]==0.0):\n",
    "        if(p.x[1]>0.0):\n",
    "            theta = 0.5*np.pi\n",
    "        else:\n",
    "            theta = 1.5*np.pi\n",
    "    else:\n",
    "        theta = np.arctan2(p.x[1],p.x[0])\n",
    "        \n",
    "    # Set the x and y components of the velocity \n",
    "    # p.a_g[0] = a_grave * np.cos(theta)\n",
    "    # p.a_g[1] = a_grave * np.sin(theta)\n",
    "    return a_grav*np.cos(theta), a_grav*np.sin(theta)"
   ]
  },
  {
   "cell_type": "markdown",
   "metadata": {},
   "source": [
    "## Compute the timestep"
   ]
  },
  {
   "cell_type": "code",
   "execution_count": 6,
   "metadata": {},
   "outputs": [],
   "source": [
    "def calc_dt(p):\n",
    "    \n",
    "    # Integratin tolerance\n",
    "    ETA_TIME_STEP = 0.0004\n",
    "    \n",
    "    # Compute the timestep\n",
    "    eta = ETA_TIME_STEP\n",
    "    v = (p.v[0]**2 + p.v[1]**2)**0.5\n",
    "    a = (p.a_g[0]**2 + p.a_g[1]**2)**0.5\n",
    "    dt = eta * np.fmin(1./np.fabs(v),1./np.fabs(a)**0.5)\n",
    "    \n",
    "    return dt"
   ]
  },
  {
   "cell_type": "code",
   "execution_count": null,
   "metadata": {},
   "outputs": [],
   "source": []
  }
 ],
 "metadata": {
  "kernelspec": {
   "display_name": "Python 3",
   "language": "python",
   "name": "python3"
  },
  "language_info": {
   "codemirror_mode": {
    "name": "ipython",
    "version": 3
   },
   "file_extension": ".py",
   "mimetype": "text/x-python",
   "name": "python",
   "nbconvert_exporter": "python",
   "pygments_lexer": "ipython3",
   "version": "3.6.5"
  }
 },
 "nbformat": 4,
 "nbformat_minor": 2
}
